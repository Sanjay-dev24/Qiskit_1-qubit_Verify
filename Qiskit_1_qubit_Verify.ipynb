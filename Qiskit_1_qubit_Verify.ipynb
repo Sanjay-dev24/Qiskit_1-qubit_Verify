{
  "nbformat": 4,
  "nbformat_minor": 0,
  "metadata": {
    "colab": {
      "provenance": []
    },
    "kernelspec": {
      "name": "python3",
      "display_name": "Python 3"
    },
    "language_info": {
      "name": "python"
    }
  },
  "cells": [
    {
      "cell_type": "code",
      "source": [
        "!pip install qiskit qiskit-aer --upgrade"
      ],
      "metadata": {
        "id": "Mx6284lurNt1"
      },
      "execution_count": null,
      "outputs": []
    },
    {
      "cell_type": "code",
      "source": [
        "from qiskit import QuantumCircuit\n",
        "from qiskit_aer import AerSimulator"
      ],
      "metadata": {
        "id": "gI17i0yhrQgz"
      },
      "execution_count": null,
      "outputs": []
    },
    {
      "cell_type": "code",
      "execution_count": null,
      "metadata": {
        "id": "VPOwLacGrCdU"
      },
      "outputs": [],
      "source": [
        "# Verify Qiskit 2.x and AerSimulator\n",
        "from qiskit import QuantumCircuit, transpile\n",
        "from qiskit_aer import AerSimulator\n",
        "\n",
        "print(\"Qiskit AerSimulator test (Qiskit 2.x)\")\n",
        "\n",
        "# simple circuit: create superposition and measure\n",
        "qc = QuantumCircuit(1, 1)\n",
        "qc.h(0)\n",
        "qc.measure_all()\n",
        "\n",
        "print(\"Circuit:\")\n",
        "print(qc.draw())\n",
        "\n",
        "# run on AerSimulator\n",
        "sim = AerSimulator()\n",
        "# compile/transpile for the simulator\n",
        "tqc = transpile(qc, sim)\n",
        "job = sim.run(tqc, shots=1024)\n",
        "result = job.result()\n",
        "counts = result.get_counts()\n",
        "print(\"Counts:\", counts)"
      ]
    }
  ]
}
