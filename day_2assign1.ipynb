{
  "nbformat": 4,
  "nbformat_minor": 0,
  "metadata": {
    "colab": {
      "provenance": []
    },
    "kernelspec": {
      "name": "python3",
      "display_name": "Python 3"
    },
    "language_info": {
      "name": "python"
    }
  },
  "cells": [
    {
      "cell_type": "code",
      "source": [
        "pip install qiskit qiskit-aer"
      ],
      "metadata": {
        "colab": {
          "base_uri": "https://localhost:8080/"
        },
        "id": "UTg2qF_VJciX",
        "outputId": "f88b9bd9-c8ec-460a-fde9-a44c9e6a3d2f"
      },
      "execution_count": 2,
      "outputs": [
        {
          "output_type": "stream",
          "name": "stdout",
          "text": [
            "Collecting qiskit\n",
            "  Downloading qiskit-2.2.1-cp39-abi3-manylinux2014_x86_64.manylinux_2_17_x86_64.whl.metadata (12 kB)\n",
            "Collecting qiskit-aer\n",
            "  Downloading qiskit_aer-0.17.2-cp312-cp312-manylinux_2_17_x86_64.manylinux2014_x86_64.whl.metadata (8.3 kB)\n",
            "Collecting rustworkx>=0.15.0 (from qiskit)\n",
            "  Downloading rustworkx-0.17.1-cp39-abi3-manylinux_2_17_x86_64.manylinux2014_x86_64.whl.metadata (10 kB)\n",
            "Requirement already satisfied: numpy<3,>=1.17 in /usr/local/lib/python3.12/dist-packages (from qiskit) (2.0.2)\n",
            "Requirement already satisfied: scipy>=1.5 in /usr/local/lib/python3.12/dist-packages (from qiskit) (1.16.2)\n",
            "Requirement already satisfied: dill>=0.3 in /usr/local/lib/python3.12/dist-packages (from qiskit) (0.3.8)\n",
            "Collecting stevedore>=3.0.0 (from qiskit)\n",
            "  Downloading stevedore-5.5.0-py3-none-any.whl.metadata (2.2 kB)\n",
            "Requirement already satisfied: typing-extensions in /usr/local/lib/python3.12/dist-packages (from qiskit) (4.15.0)\n",
            "Requirement already satisfied: psutil>=5 in /usr/local/lib/python3.12/dist-packages (from qiskit-aer) (5.9.5)\n",
            "Requirement already satisfied: python-dateutil>=2.8.0 in /usr/local/lib/python3.12/dist-packages (from qiskit-aer) (2.9.0.post0)\n",
            "Requirement already satisfied: six>=1.5 in /usr/local/lib/python3.12/dist-packages (from python-dateutil>=2.8.0->qiskit-aer) (1.17.0)\n",
            "Downloading qiskit-2.2.1-cp39-abi3-manylinux2014_x86_64.manylinux_2_17_x86_64.whl (8.0 MB)\n",
            "\u001b[2K   \u001b[90m━━━━━━━━━━━━━━━━━━━━━━━━━━━━━━━━━━━━━━━━\u001b[0m \u001b[32m8.0/8.0 MB\u001b[0m \u001b[31m70.1 MB/s\u001b[0m eta \u001b[36m0:00:00\u001b[0m\n",
            "\u001b[?25hDownloading qiskit_aer-0.17.2-cp312-cp312-manylinux_2_17_x86_64.manylinux2014_x86_64.whl (12.4 MB)\n",
            "\u001b[2K   \u001b[90m━━━━━━━━━━━━━━━━━━━━━━━━━━━━━━━━━━━━━━━━\u001b[0m \u001b[32m12.4/12.4 MB\u001b[0m \u001b[31m82.8 MB/s\u001b[0m eta \u001b[36m0:00:00\u001b[0m\n",
            "\u001b[?25hDownloading rustworkx-0.17.1-cp39-abi3-manylinux_2_17_x86_64.manylinux2014_x86_64.whl (2.2 MB)\n",
            "\u001b[2K   \u001b[90m━━━━━━━━━━━━━━━━━━━━━━━━━━━━━━━━━━━━━━━━\u001b[0m \u001b[32m2.2/2.2 MB\u001b[0m \u001b[31m68.5 MB/s\u001b[0m eta \u001b[36m0:00:00\u001b[0m\n",
            "\u001b[?25hDownloading stevedore-5.5.0-py3-none-any.whl (49 kB)\n",
            "\u001b[2K   \u001b[90m━━━━━━━━━━━━━━━━━━━━━━━━━━━━━━━━━━━━━━━━\u001b[0m \u001b[32m49.5/49.5 kB\u001b[0m \u001b[31m3.4 MB/s\u001b[0m eta \u001b[36m0:00:00\u001b[0m\n",
            "\u001b[?25hInstalling collected packages: stevedore, rustworkx, qiskit, qiskit-aer\n",
            "Successfully installed qiskit-2.2.1 qiskit-aer-0.17.2 rustworkx-0.17.1 stevedore-5.5.0\n"
          ]
        }
      ]
    },
    {
      "cell_type": "code",
      "execution_count": 3,
      "metadata": {
        "colab": {
          "base_uri": "https://localhost:8080/"
        },
        "id": "l_SnzqvOJWUp",
        "outputId": "0692892f-6cc4-4e9b-ef47-28ca23c0b441"
      },
      "outputs": [
        {
          "output_type": "stream",
          "name": "stdout",
          "text": [
            "Qiskit AerSimulator test (Qiskit 2.x)\n",
            "\n",
            "1 Change number of shots (single-qubit superposition)\n",
            "\n",
            "Shots = 10: {'1': 5, '0': 5}\n",
            "Shots = 1000: {'0': 488, '1': 512}\n",
            "Shots = 10000: {'1': 5033, '0': 4967}\n",
            "------------------------------------------------------------\n",
            "2 Two-qubit superposition (H on both qubits)\n",
            "\n",
            "Expected ~25% each for 00, 01, 10, 11\n",
            "Counts: {'00': 235, '10': 248, '11': 256, '01': 261}\n",
            "------------------------------------------------------------\n",
            "3 Entangled state (Bell state: only 00 and 11)\n",
            "\n",
            "Expected: only 00 and 11\n",
            "Counts: {'00': 486, '11': 514}\n",
            "------------------------------------------------------------\n",
            "4 Try an X gate (always 1)\n",
            "\n",
            "Expected: always 1\n",
            "Counts: {'1': 100}\n",
            "------------------------------------------------------------\n",
            "5 Three-qubit superposition (H on all qubits)\n",
            "\n",
            "Expected ~12.5% each for 000 → 111\n",
            "Counts: {'101': 114, '011': 120, '111': 118, '100': 138, '001': 122, '110': 125, '000': 140, '010': 123}\n",
            "------------------------------------------------------------\n"
          ]
        }
      ],
      "source": [
        "from qiskit import QuantumCircuit, transpile\n",
        "from qiskit_aer import AerSimulator\n",
        "from qiskit.visualization import plot_histogram\n",
        "import matplotlib.pyplot as plt\n",
        "\n",
        "print(\"Qiskit AerSimulator test (Qiskit 2.x)\\n\")\n",
        "\n",
        "# Initialize simulator\n",
        "sim = AerSimulator()\n",
        "\n",
        "print(\"1 Change number of shots (single-qubit superposition)\\n\")\n",
        "\n",
        "for shots in [10, 1000, 10000]:\n",
        "    qc = QuantumCircuit(1, 1)\n",
        "    qc.h(0)\n",
        "    qc.measure(0, 0)\n",
        "    tqc = transpile(qc, sim)\n",
        "    job = sim.run(tqc, shots=shots)\n",
        "    counts = job.result().get_counts()\n",
        "    print(f\"Shots = {shots}: {counts}\")\n",
        "    plot_histogram(counts, title=f\"Single-Qubit Superposition ({shots} shots)\")\n",
        "    plt.show()\n",
        "\n",
        "print(\"-\" * 60)\n",
        "\n",
        "print(\"2 Two-qubit superposition (H on both qubits)\\n\")\n",
        "\n",
        "qc = QuantumCircuit(2, 2)\n",
        "qc.h(0)\n",
        "qc.h(1)\n",
        "qc.measure([0, 1], [0, 1])\n",
        "tqc = transpile(qc, sim)\n",
        "job = sim.run(tqc, shots=1000)\n",
        "counts = job.result().get_counts()\n",
        "print(\"Expected ~25% each for 00, 01, 10, 11\")\n",
        "print(\"Counts:\", counts)\n",
        "plot_histogram(counts, title=\"Two-Qubit Superposition (~25% each)\")\n",
        "plt.show()\n",
        "print(\"-\" * 60)\n",
        "\n",
        "print(\"3 Entangled state (Bell state: only 00 and 11)\\n\")\n",
        "\n",
        "qc = QuantumCircuit(2, 2)\n",
        "qc.h(0)\n",
        "qc.cx(0, 1)\n",
        "qc.measure([0, 1], [0, 1])\n",
        "tqc = transpile(qc, sim)\n",
        "job = sim.run(tqc, shots=1000)\n",
        "counts = job.result().get_counts()\n",
        "print(\"Expected: only 00 and 11\")\n",
        "print(\"Counts:\", counts)\n",
        "plot_histogram(counts, title=\"Entangled Bell State (00 and 11 only)\")\n",
        "plt.show()\n",
        "print(\"-\" * 60)\n",
        "\n",
        "print(\"4 Try an X gate (always 1)\\n\")\n",
        "\n",
        "qc = QuantumCircuit(1, 1)\n",
        "qc.x(0)\n",
        "qc.measure(0, 0)\n",
        "tqc = transpile(qc, sim)\n",
        "job = sim.run(tqc, shots=100)\n",
        "counts = job.result().get_counts()\n",
        "print(\"Expected: always 1\")\n",
        "print(\"Counts:\", counts)\n",
        "plot_histogram(counts, title=\"X Gate (Always 1)\")\n",
        "plt.show()\n",
        "print(\"-\" * 60)\n",
        "print(\"5 Three-qubit superposition (H on all qubits)\\n\")\n",
        "\n",
        "qc = QuantumCircuit(3, 3)\n",
        "qc.h([0, 1, 2])\n",
        "qc.measure([0, 1, 2], [0, 1, 2])\n",
        "tqc = transpile(qc, sim)\n",
        "job = sim.run(tqc, shots=1000)\n",
        "counts = job.result().get_counts()\n",
        "print(\"Expected ~12.5% each for 000 → 111\")\n",
        "print(\"Counts:\", counts)\n",
        "plot_histogram(counts, title=\"Three-Qubit Superposition (~12.5% each)\")\n",
        "plt.show()\n",
        "print(\"-\" * 60)"
      ]
    }
  ]
}